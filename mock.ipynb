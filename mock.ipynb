{
 "cells": [
  {
   "cell_type": "markdown",
   "metadata": {},
   "source": [
    "# Defining mock connections\n",
    "\n",
    "Start with some setup."
   ]
  },
  {
   "cell_type": "code",
   "execution_count": null,
   "metadata": {
    "collapsed": true
   },
   "outputs": [],
   "source": [
    "import sys\n",
    "sys.path.append('/opt/rhc')\n",
    "\n",
    "import rhc.micro as micro\n",
    "import rhc.async as async\n",
    "\n",
    "import logging\n",
    "logging.basicConfig(level=logging.DEBUG)"
   ]
  },
  {
   "cell_type": "markdown",
   "metadata": {},
   "source": [
    "### Create a simple resource"
   ]
  },
  {
   "cell_type": "code",
   "execution_count": null,
   "metadata": {
    "scrolled": true
   },
   "outputs": [],
   "source": [
    "p=micro.load_connection([\n",
    "    'CONNECTION placeholder http://jsonplaceholder.typicode.com',\n",
    "    'RESOURCE document /posts/{id}',\n",
    "])\n",
    "async.wait(micro.connection.placeholder.document(1))"
   ]
  },
  {
   "cell_type": "markdown",
   "metadata": {},
   "source": [
    "### Define a mock for the resource\n",
    "\n",
    "Here we define an object with a method named *document* and assign it to the connection's *mock* attribute.\n",
    "\n",
    "**Note**: the method name matches the *RESOURCE* name."
   ]
  },
  {
   "cell_type": "code",
   "execution_count": null,
   "metadata": {
    "collapsed": true
   },
   "outputs": [],
   "source": [
    "class MyMock(object):\n",
    "    def document(self, method, path, headers, body):\n",
    "        print('method', method)\n",
    "        print('path', path)\n",
    "        print('headers', headers)\n",
    "        print('body', body)\n",
    "        return 'foo'\n",
    "micro.connection.placeholder.mock = MyMock()"
   ]
  },
  {
   "cell_type": "markdown",
   "metadata": {},
   "source": [
    "### Call the mocked resource\n",
    "\n",
    "With a *mock* in place, we can make the same call as earlier, but instead of making a network connection,\n",
    "the *document* method on the connection's *mock* attribute is called."
   ]
  },
  {
   "cell_type": "code",
   "execution_count": null,
   "metadata": {},
   "outputs": [],
   "source": [
    "async.wait(micro.connection.placeholder.document(1))"
   ]
  },
  {
   "cell_type": "markdown",
   "metadata": {},
   "source": [
    "### What is going on here?\n",
    "\n",
    "The *mock* is not called until the arguments provided to the partial\n",
    "are evaluated and prepared for the HTTP connection; this ensures that the \n",
    "*mock* data matches the actual connection data.\n",
    "\n",
    "The *mock* is called with:\n",
    "\n",
    "1. the HTTP method\n",
    "2. the path, with any substititions\n",
    "3. headers as a dict\n",
    "4. content as a dict, or None if no content\n",
    "\n",
    "**Notes**:\n",
    "\n",
    "* The return value from the *mock* will be used as the partial's response.\n",
    "The final line, \"foo\", is the return from the *mock document RESOURCE*\n",
    "as printed by the default *async.wait* callback handler.\n",
    "* If the *mock* throws an exception, the callback will be called with a non-zero result.\n",
    "* The *handler*, *setup* and *wrapper* functions are not called.\n",
    "* The example uses a class; it could also be a collection of functions in a module.\n",
    "\n",
    "Here is an example of content created from unused kwargs:"
   ]
  },
  {
   "cell_type": "code",
   "execution_count": null,
   "metadata": {},
   "outputs": [],
   "source": [
    "async.wait(micro.connection.placeholder.document(1, test='value'))"
   ]
  },
  {
   "cell_type": "code",
   "execution_count": null,
   "metadata": {
    "collapsed": true
   },
   "outputs": [],
   "source": []
  }
 ],
 "metadata": {
  "kernelspec": {
   "display_name": "Python 2",
   "language": "python",
   "name": "python2"
  },
  "language_info": {
   "codemirror_mode": {
    "name": "ipython",
    "version": 2
   },
   "file_extension": ".py",
   "mimetype": "text/x-python",
   "name": "python",
   "nbconvert_exporter": "python",
   "pygments_lexer": "ipython2",
   "version": "2.7.13"
  }
 },
 "nbformat": 4,
 "nbformat_minor": 2
}
