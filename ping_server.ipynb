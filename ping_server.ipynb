{
 "cells": [
  {
   "cell_type": "markdown",
   "metadata": {},
   "source": [
    "# A simple REST service\n",
    "\n",
    "Here is a rather useless ping server. It accepts `GET /test/ping` and responds with `{\"ping\": \"pong\"}`.\n",
    "\n",
    "Start by making sure `rhc` is in python's path,"
   ]
  },
  {
   "cell_type": "code",
   "execution_count": null,
   "metadata": {
    "collapsed": true
   },
   "outputs": [],
   "source": [
    "import sys\n",
    "sys.path.append('/opt/rhc')"
   ]
  },
  {
   "cell_type": "markdown",
   "metadata": {},
   "source": [
    "and importing a couple of components."
   ]
  },
  {
   "cell_type": "code",
   "execution_count": null,
   "metadata": {
    "collapsed": true
   },
   "outputs": [],
   "source": [
    "import rhc.micro as micro\n",
    "import rhc.async as async"
   ]
  },
  {
   "cell_type": "markdown",
   "metadata": {},
   "source": [
    "#### A REST handler\n",
    "\n",
    "We'll start by creating a simple REST handler. A handler always has at least one argument, `request`, which holds data about the incoming HTTP request. In this case, we ignore the `request`, and simply return our desired result."
   ]
  },
  {
   "cell_type": "code",
   "execution_count": null,
   "metadata": {
    "collapsed": true
   },
   "outputs": [],
   "source": [
    "def ping(request):\n",
    "    return {'ping': 'pong'}"
   ]
  },
  {
   "cell_type": "markdown",
   "metadata": {},
   "source": [
    "We can take a look `ping` in order to know how to refer to it."
   ]
  },
  {
   "cell_type": "code",
   "execution_count": null,
   "metadata": {},
   "outputs": [],
   "source": [
    "ping"
   ]
  },
  {
   "cell_type": "markdown",
   "metadata": {},
   "source": [
    "#### A REST server\n",
    "\n",
    "A server is defined using the\n",
    "`SERVER`, `ROUTE` and `crud` (`GET`, `POST`, `PUT`, `DELETE`) directives in a `micro` file.\n",
    "A simple definition follows."
   ]
  },
  {
   "cell_type": "code",
   "execution_count": null,
   "metadata": {},
   "outputs": [],
   "source": [
    "p = micro.load_server([\n",
    "  'SERVER useless 12345',\n",
    "    'ROUTE /test/ping$',\n",
    "      'GET __main__.ping',\n",
    "])"
   ]
  },
  {
   "cell_type": "markdown",
   "metadata": {},
   "source": [
    "### What's happening here?\n",
    "\n",
    "#### Function `load_server`\n",
    "\n",
    "The `load_server` helper function\n",
    "dynamically loads server definitions. In this case, the definition is contained\n",
    "in a `list`, but could also be loaded from a file by specifying the file's name, or by specifying\n",
    "a dot-separated path to the file in the python code tree.\n",
    "\n",
    "_In a microservice implementation, the server definitions are included in the\n",
    "`micro` file, or in one of the imported files.\n",
    "This function is included for experimentation and development._\n",
    "\n",
    "#### SERVER\n",
    "\n",
    "The `SERVER` directive provides a `name` and a listening `port` for a service. The socket is\n",
    "started and listens for incoming connections.\n",
    "\n",
    "All by itself, a `SERVER` doesn't provide much.\n",
    "\n",
    "#### ROUTE\n",
    "\n",
    "The `ROUTE` directive watches for a specific HTTP resource\n",
    "on incoming connections. In this case, the resource is the exact string `/test/ping`.\n",
    "\n",
    "Even when combined with a `SERVER`, a `ROUTE` doesn't provide much.\n",
    "\n",
    "#### GET\n",
    "\n",
    "The `GET` directive tells micro what REST handler to run if an HTTP GET occurs on the most\n",
    "recently defined ROUTE. In this case, we specify the ping function defined earlier. The\n",
    "handler is dynamically imported when the server is started.\n",
    "\n",
    "Other HTTP methods, `PUT`, `POST`, `DELETE`, can be used as directives as well.\n",
    "\n",
    "### Making a connection to the server\n",
    "\n",
    "The `useless` server is now listening, but we need a way to connect to it.\n",
    "We start by defining a connection to the listening port:"
   ]
  },
  {
   "cell_type": "code",
   "execution_count": null,
   "metadata": {
    "collapsed": true
   },
   "outputs": [],
   "source": [
    "con = async.Connection('http://localhost:12345')"
   ]
  },
  {
   "cell_type": "markdown",
   "metadata": {},
   "source": [
    "And then doing a `GET` on the `/test/ping` resource."
   ]
  },
  {
   "cell_type": "code",
   "execution_count": null,
   "metadata": {},
   "outputs": [],
   "source": [
    "async.wait(con.get('/test/ping'))"
   ]
  },
  {
   "cell_type": "markdown",
   "metadata": {},
   "source": [
    "### Behind the scenes\n",
    "\n",
    "The `async.wait` function is pulling double duty here by running both the server code and the client code until the client code completes. Each network event causes the microservice (here running inside `wait`) to perform some action in response to the event. We'll look at each action in turn.\n",
    "\n",
    "#### connect\n",
    "\n",
    "When `con.get` (aka the `client`) is executed, it starts a connection to `localhost:12345`, and waits.\n",
    "_It doesn't explicitly wait for anything, it just stops processing. There is nothing to do until another network event occurs._\n",
    "\n",
    "#### accept\n",
    "\n",
    "When the `SERVER` listening on port `12345` receives the `connect`, it accepts the call and waits.\n",
    "\n",
    "**For the curious**: _The microservice periodically polls the socket listening on port `12345`\n",
    "to see if it is \"readable\". If it is readable, that means that another socket is trying to connect.\n",
    "When this happens, the microservice \"accepts\" the connection, creating a new socket which\n",
    "represents the microservice's side of the connection.\n",
    "TCP will make sure that the `client` side\n",
    "of the connection is notified that the connection is complete._\n",
    "\n",
    "#### send\n",
    "\n",
    "When the `client` is connected, it sends a `GET /test/ping` to the `server` as an HTTP document and waits.\n",
    "\n",
    "#### server receive\n",
    "\n",
    "When the `server` receives the entire HTTP document, it \n",
    "matches it to the `ROUTE` and `GET` directives, and\n",
    "calls `__main__.ping`, which immediately returns\n",
    "the dictionary `{'ping': 'pong'}`.\n",
    "The `server` sends the dictionary as a `json` document in an HTTP response\n",
    "to the `client` and waits.\n",
    "\n",
    "**For the curious**: _The microservice started polling the connected socket as soon as the\n",
    "connection was completed in the `accept` step above. When data arrives on the socket, the socket\n",
    "becomes \"readable\" which tells the microservice that it's possible to read some data. Data is read\n",
    "and parsed until an entire HTTP document is received._\n",
    "\n",
    "#### client receive\n",
    "\n",
    "When the `client` receives the entire HTTP document, it indicates to the `wait` function that it is done.\n",
    "The `wait` function prints the `json` document and stops."
   ]
  },
  {
   "cell_type": "code",
   "execution_count": null,
   "metadata": {
    "collapsed": true
   },
   "outputs": [],
   "source": []
  }
 ],
 "metadata": {
  "kernelspec": {
   "display_name": "Python 2",
   "language": "python",
   "name": "python2"
  },
  "language_info": {
   "codemirror_mode": {
    "name": "ipython",
    "version": 2
   },
   "file_extension": ".py",
   "mimetype": "text/x-python",
   "name": "python",
   "nbconvert_exporter": "python",
   "pygments_lexer": "ipython2",
   "version": "2.7.12"
  }
 },
 "nbformat": 4,
 "nbformat_minor": 2
}
