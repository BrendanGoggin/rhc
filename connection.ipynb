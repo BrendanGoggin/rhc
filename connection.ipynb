{
 "cells": [
  {
   "cell_type": "markdown",
   "metadata": {},
   "source": [
    "# Defining outbound connections\n",
    "\n",
    "Start by making sure `rhc` is in python's path,"
   ]
  },
  {
   "cell_type": "code",
   "execution_count": 1,
   "metadata": {
    "collapsed": true
   },
   "outputs": [],
   "source": [
    "import sys\n",
    "sys.path.append('/opt/rhc')"
   ]
  },
  {
   "cell_type": "markdown",
   "metadata": {},
   "source": [
    "and importing a couple of components."
   ]
  },
  {
   "cell_type": "code",
   "execution_count": 2,
   "metadata": {
    "collapsed": true
   },
   "outputs": [],
   "source": [
    "import rhc.micro as micro\n",
    "import rhc.async as async"
   ]
  },
  {
   "cell_type": "markdown",
   "metadata": {},
   "source": [
    "Connections to HTTP resources can be defined using the\n",
    "`CONNECTION` and `RESOURCE` directives in a `micro` file.\n",
    "A simple definition follows."
   ]
  },
  {
   "cell_type": "code",
   "execution_count": 3,
   "metadata": {
    "collapsed": true
   },
   "outputs": [],
   "source": [
    "micro.load_connection([\n",
    "    'CONNECTION placeholder http://jsonplaceholder.typicode.com',\n",
    "    'RESOURCE document /posts/1',\n",
    "])"
   ]
  },
  {
   "cell_type": "markdown",
   "metadata": {},
   "source": [
    "Now, make a connection and see what happens."
   ]
  },
  {
   "cell_type": "code",
   "execution_count": 4,
   "metadata": {},
   "outputs": [
    {
     "name": "stdout",
     "output_type": "stream",
     "text": [
      "{u'body': u'quia et suscipit\\nsuscipit recusandae consequuntur expedita et cum\\nreprehenderit molestiae ut ut quas totam\\nnostrum rerum est autem sunt rem eveniet architecto', u'userId': 1, u'id': 1, u'title': u'sunt aut facere repellat provident occaecati excepturi optio reprehenderit'}\n"
     ]
    }
   ],
   "source": [
    "async.wait(micro.connection.placeholder.document())"
   ]
  },
  {
   "cell_type": "markdown",
   "metadata": {},
   "source": [
    "### What happened?\n",
    "\n",
    "This code performs a GET on `http://jsonplaceholder.typicode.com/posts/1` and prints the result.\n",
    "There are simpler ways to perform this task, like using the wonderful `requests` library, but\n",
    "this solution is designed to perform well in a microservice environment where numerous connections\n",
    "are being handled simultaneously.\n",
    "\n",
    "### How does it work?\n",
    "\n",
    "#### Function `load_connection`\n",
    "\n",
    "The `load_connection` helper function\n",
    "allows for the dynamic loading of connection definitions. In this case, the definition is contained\n",
    "in a `list`, but could also be loaded from a file by specifying the file's name, or by specifying\n",
    "a dot-separated path to the file in the python code tree.\n",
    "\n",
    "_In a microservice implementation, the connection definitions are included in the\n",
    "`micro` file, or in one of the imported files.\n",
    "This function is included for experimentation and development._\n",
    "\n",
    "#### CONNECTION\n",
    "\n",
    "The `CONNECTION` directive provides a `name` and a `url` for a service. The connection is\n",
    "added to `rhc.micro`, and can be accessed as `rhc.micro.connection.{name}`.\n",
    "Since `rhc.micro` is imported as `micro`, the `rhc` preface is skipped in the example.\n",
    "\n",
    "All by itself, a `CONNECTION` doesn't provide much.\n",
    "\n",
    "#### RESOURCE\n",
    "\n",
    "The `RESOURCE` directive adds a specific HTTP resource to the most recently specified `CONNECTION`.\n",
    "In this case, the resource name is `document` and the path to the resource is `/posts/1`;\n",
    "when combined with the `CONNECTION`, the full resource url is\n",
    "`http://jsonplaceholder.typicode.com/posts/1`.\n",
    "\n",
    "The resource is added to the connection, and can be accessed as\n",
    "`micro.connection.{connection name}.{resource name}` or, specifically,\n",
    "`micro.connection.placeholder.document`.\n",
    "\n",
    "#### Function `wait`\n",
    "\n",
    "The `wait` helper function starts a connection to the resource and waits until\n",
    "it is done, printing the result.\n",
    "\n",
    "This hints at the asynchronous activity underpinning `micro.connection`, which\n",
    "will become more apparent in subsequent examples.\n",
    "\n",
    "_In a microservice, the `wait` function is never used, since it would cause the\n",
    "entire service to block until `wait` completes.\n",
    "This function is included for testing and development._"
   ]
  },
  {
   "cell_type": "markdown",
   "metadata": {},
   "source": [
    "## Adding Parameters\n",
    "\n",
    "It would be nice to parameterize our `RESOURCE` so that we can specify a document other than\n",
    "`/posts/1`. This is accomplished by changing the `RESOURCE` directive to include a\n",
    "curly-brace delimited name"
   ]
  },
  {
   "cell_type": "code",
   "execution_count": 5,
   "metadata": {
    "collapsed": true
   },
   "outputs": [],
   "source": [
    "micro.load_connection([\n",
    "    'CONNECTION placeholder http://jsonplaceholder.typicode.com',\n",
    "    'RESOURCE document /posts/{document_id}',\n",
    "])"
   ]
  },
  {
   "cell_type": "markdown",
   "metadata": {},
   "source": [
    "which adds a required argument to the `micro.connection.placeholder.document` function.\n",
    "Now the `wait` call looks like this:"
   ]
  },
  {
   "cell_type": "code",
   "execution_count": 6,
   "metadata": {},
   "outputs": [
    {
     "name": "stdout",
     "output_type": "stream",
     "text": [
      "{u'body': u'quia et suscipit\\nsuscipit recusandae consequuntur expedita et cum\\nreprehenderit molestiae ut ut quas totam\\nnostrum rerum est autem sunt rem eveniet architecto', u'userId': 1, u'id': 1, u'title': u'sunt aut facere repellat provident occaecati excepturi optio reprehenderit'}\n"
     ]
    }
   ],
   "source": [
    "async.wait(micro.connection.placeholder.document(1))"
   ]
  },
  {
   "cell_type": "markdown",
   "metadata": {},
   "source": [
    "## Adding non-path parameters\n",
    "\n",
    "Although it doesn't make sense to add a document to a `GET` request,\n",
    "we can do it for demonstration purposes. Add a `trace=true` to the\n",
    "`RESOURCE` like this:"
   ]
  },
  {
   "cell_type": "code",
   "execution_count": 7,
   "metadata": {
    "collapsed": true
   },
   "outputs": [],
   "source": [
    "micro.load_connection([\n",
    "    'CONNECTION placeholder http://jsonplaceholder.typicode.com',\n",
    "    'RESOURCE document /posts/{document_id} trace=true',\n",
    "])"
   ]
  },
  {
   "cell_type": "markdown",
   "metadata": {},
   "source": [
    "This will log the entire HTTP document when it is sent,\n",
    "making it easy for us to see what is going on. Make sure\n",
    "to enable debug logging, by doing something like the following:"
   ]
  },
  {
   "cell_type": "code",
   "execution_count": 8,
   "metadata": {
    "collapsed": true
   },
   "outputs": [],
   "source": [
    "import logging\n",
    "logging.basicConfig(level=logging.DEBUG)"
   ]
  },
  {
   "cell_type": "markdown",
   "metadata": {},
   "source": [
    "**Note**: _In a production microservice, you should never use `trace=debug`. Documents\n",
    "often contain sensitive information that you don't want to end\n",
    "up in logs._\n",
    "\n",
    "A json document will be assembled from the keyword arguments to\n",
    "`micro.connection.placeholder.document`. Try running the example with this\n",
    "`wait` call:"
   ]
  },
  {
   "cell_type": "code",
   "execution_count": 9,
   "metadata": {},
   "outputs": [
    {
     "name": "stderr",
     "output_type": "stream",
     "text": [
      "DEBUG:rhc.async:GET /posts/1 HTTP/1.1\r\n",
      "Date: Sun, 30 Apr 2017 19:07:33 UTC\r\n",
      "Content-Length: 16\r\n",
      "Content-Type: application/json; charset=utf-8\r\n",
      "Host: jsonplaceholder.typicode.com\r\n",
      "\r\n",
      "{\"a\": 1, \"b\": 2}\n"
     ]
    },
    {
     "name": "stdout",
     "output_type": "stream",
     "text": [
      "{u'body': u'quia et suscipit\\nsuscipit recusandae consequuntur expedita et cum\\nreprehenderit molestiae ut ut quas totam\\nnostrum rerum est autem sunt rem eveniet architecto', u'userId': 1, u'id': 1, u'title': u'sunt aut facere repellat provident occaecati excepturi optio reprehenderit'}\n"
     ]
    }
   ],
   "source": [
    "async.wait(micro.connection.placeholder.document('1', a=1, b=2))"
   ]
  },
  {
   "cell_type": "markdown",
   "metadata": {},
   "source": [
    "## Required and Optional parameters\n",
    "\n",
    "Most REST documents are not composed of random collections of keyword\n",
    "arguments. With the addition of two directives, specific arguments\n",
    "can be required or optionally specified for each `RESOURCE`.\n",
    "\n",
    "Change the connection list to look like this:"
   ]
  },
  {
   "cell_type": "code",
   "execution_count": 10,
   "metadata": {
    "collapsed": true
   },
   "outputs": [],
   "source": [
    "micro.load_connection([\n",
    "    'CONNECTION placeholder http://jsonplaceholder.typicode.com',\n",
    "    'RESOURCE document /posts/{document_number} trace=true',\n",
    "    'REQUIRED first_name',\n",
    "    'OPTIONAL plant default=earth',\n",
    "])"
   ]
  },
  {
   "cell_type": "markdown",
   "metadata": {},
   "source": [
    "The `document` resource now has two required arguments: `document_id` from\n",
    "the path and `first_name` from the `REQUIRED` directive.\n",
    "If the optional argument `planet` is not supplied, it will use the default value\n",
    "of `earth`.\n",
    "\n",
    "Run the example with this `wait` call:"
   ]
  },
  {
   "cell_type": "code",
   "execution_count": 11,
   "metadata": {
    "scrolled": true
   },
   "outputs": [
    {
     "name": "stderr",
     "output_type": "stream",
     "text": [
      "DEBUG:rhc.async:GET /posts/1 HTTP/1.1\r\n",
      "Date: Sun, 30 Apr 2017 19:07:35 UTC\r\n",
      "Content-Length: 35\r\n",
      "Content-Type: application/json; charset=utf-8\r\n",
      "Host: jsonplaceholder.typicode.com\r\n",
      "\r\n",
      "{\"first_name\": 2, \"plant\": \"earth\"}\n"
     ]
    },
    {
     "name": "stdout",
     "output_type": "stream",
     "text": [
      "{u'body': u'quia et suscipit\\nsuscipit recusandae consequuntur expedita et cum\\nreprehenderit molestiae ut ut quas totam\\nnostrum rerum est autem sunt rem eveniet architecto', u'userId': 1, u'id': 1, u'title': u'sunt aut facere repellat provident occaecati excepturi optio reprehenderit'}\n"
     ]
    }
   ],
   "source": [
    "async.wait(micro.connection.placeholder.document(1, 2))"
   ]
  },
  {
   "cell_type": "markdown",
   "metadata": {
    "collapsed": true
   },
   "source": [
    "**Note**: `path` substitutions come first, in left-to-right order as\n",
    "encountered in the path, followed, in order, by each `REQUIRED` argument.\n",
    "`OPTIONAL` arguments, if specified, can be in any order."
   ]
  }
 ],
 "metadata": {
  "kernelspec": {
   "display_name": "Python 2",
   "language": "python",
   "name": "python2"
  },
  "language_info": {
   "codemirror_mode": {
    "name": "ipython",
    "version": 2
   },
   "file_extension": ".py",
   "mimetype": "text/x-python",
   "name": "python",
   "nbconvert_exporter": "python",
   "pygments_lexer": "ipython2",
   "version": "2.7.13"
  }
 },
 "nbformat": 4,
 "nbformat_minor": 2
}
