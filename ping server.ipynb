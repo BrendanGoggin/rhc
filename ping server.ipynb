{
 "cells": [
  {
   "cell_type": "markdown",
   "metadata": {},
   "source": [
    "# A simple REST service\n",
    "\n",
    "Here is a rather useless ping server. It accepts `GET /test/ping` and responds with `{\"ping\": \"pong\"}`.\n",
    "\n",
    "Start by making sure `rhc` is in python's path,"
   ]
  },
  {
   "cell_type": "code",
   "execution_count": 14,
   "metadata": {
    "collapsed": true
   },
   "outputs": [],
   "source": [
    "import sys\n",
    "sys.path.append('/opt/rhc')"
   ]
  },
  {
   "cell_type": "markdown",
   "metadata": {},
   "source": [
    "and importing a couple of components."
   ]
  },
  {
   "cell_type": "code",
   "execution_count": 15,
   "metadata": {
    "collapsed": true
   },
   "outputs": [],
   "source": [
    "import rhc.micro as micro\n",
    "import rhc.async as async"
   ]
  },
  {
   "cell_type": "markdown",
   "metadata": {},
   "source": [
    "#### A REST handler\n",
    "\n",
    "We'll start by creating a simple REST handler. A handler always has at least one argument, `request`, which holds data about the incoming HTTP request. In this case, we ignore the `request`, and simply return our desired result."
   ]
  },
  {
   "cell_type": "code",
   "execution_count": 16,
   "metadata": {
    "collapsed": true
   },
   "outputs": [],
   "source": [
    "def ping(request):\n",
    "    return {'ping': 'pong'}"
   ]
  },
  {
   "cell_type": "markdown",
   "metadata": {},
   "source": [
    "We can take a look `ping` in order to know how to refer to it."
   ]
  },
  {
   "cell_type": "code",
   "execution_count": 17,
   "metadata": {},
   "outputs": [
    {
     "data": {
      "text/plain": [
       "<function __main__.ping>"
      ]
     },
     "execution_count": 17,
     "metadata": {},
     "output_type": "execute_result"
    }
   ],
   "source": [
    "ping"
   ]
  },
  {
   "cell_type": "markdown",
   "metadata": {},
   "source": [
    "#### A REST server\n",
    "\n",
    "A server is defined using the\n",
    "`SERVER`, `ROUTE` and `crud` (`GET`, `POST`, `PUT`, `DELETE`) directives in a `micro` file.\n",
    "A simple definition follows."
   ]
  },
  {
   "cell_type": "code",
   "execution_count": 18,
   "metadata": {
    "collapsed": true
   },
   "outputs": [],
   "source": [
    "p = micro.load_server([\n",
    "  'SERVER useless 12345',\n",
    "    'ROUTE /test/ping$',\n",
    "      'GET __main__.ping',\n",
    "])"
   ]
  },
  {
   "cell_type": "markdown",
   "metadata": {},
   "source": [
    "### What's happening here?\n",
    "\n",
    "#### Function `load_server`\n",
    "\n",
    "The `load_server` helper function\n",
    "dynamically loads server definitions. In this case, the definition is contained\n",
    "in a `list`, but could also be loaded from a file by specifying the file's name, or by specifying\n",
    "a dot-separated path to the file in the python code tree.\n",
    "\n",
    "_In a microservice implementation, the server definitions are included in the\n",
    "`micro` file, or in one of the imported files.\n",
    "This function is included for experimentation and development._\n",
    "\n",
    "#### SERVER\n",
    "\n",
    "The `SERVER` directive provides a `name` and a listening `port` for a service. The socket is\n",
    "started and listens for incoming connections.\n",
    "\n",
    "All by itself, a `SERVER` doesn't provide much.\n",
    "\n",
    "#### ROUTE\n",
    "\n",
    "The `ROUTE` directive watches for a specific HTTP resource\n",
    "on incoming connections. In this case, the resource is the exact string `/test/ping`.\n",
    "\n",
    "Even when combined with a `SERVER`, a `ROUTE` doesn't provide much.\n",
    "\n",
    "#### GET\n",
    "\n",
    "The `GET` directive tells micro what REST handler to run if an HTTP GET occurs on the most\n",
    "recently defined ROUTE. In this case, we specify the ping function defined earlier. The\n",
    "handler is dynamically imported when the server is started.\n",
    "\n",
    "Other HTTP methods, `PUT`, `POST`, `DELETE`, can be used as directives as well.\n",
    "\n",
    "### Making a connection to the server\n",
    "\n",
    "The `useless` server is now listening, but we need a way to connect to it.\n",
    "We start by defining a connection to the listening port:"
   ]
  },
  {
   "cell_type": "code",
   "execution_count": 19,
   "metadata": {},
   "outputs": [],
   "source": [
    "con = async.Connection('http://localhost:12345')"
   ]
  },
  {
   "cell_type": "markdown",
   "metadata": {},
   "source": [
    "And then doing a `GET` on the `/test/ping` resource."
   ]
  },
  {
   "cell_type": "code",
   "execution_count": 20,
   "metadata": {},
   "outputs": [
    {
     "name": "stdout",
     "output_type": "stream",
     "text": [
      "{u'ping': u'pong'}\n"
     ]
    }
   ],
   "source": [
    "async.wait(con.get('/test/ping'))"
   ]
  },
  {
   "cell_type": "markdown",
   "metadata": {},
   "source": [
    "### Behind the scenes\n",
    "\n",
    "The `async.wait` function is pulling double duty here by running both the server code and the client code until the client code completes. Each network event causes the microservice (here running inside `wait`) to perform some action in response to the event. We'll look at each action in turn.\n",
    "\n",
    "#### connect\n",
    "\n",
    "When `con.get` (aka the `client`) is executed, it starts a connection to `localhost:12345`, and waits.\n",
    "_It doesn't explicitly wait for anything, it just stops processing. There is nothing to do until another network event occurs._\n",
    "\n",
    "#### accept\n",
    "\n",
    "When the `SERVER` listening on port `12345` receives the `connect`, it accepts the call and waits.\n",
    "\n",
    "**For the curious**: _The microservice periodically polls the socket listening on port `12345`\n",
    "to see if it is \"readable\". If it is readable, that means that another socket is trying to connect.\n",
    "When this happens, the microservice \"accepts\" the connection, creating a new socket which\n",
    "represents the microservice's side of the connection.\n",
    "TCP will make sure that the `client` side\n",
    "of the connection is notified that the connection is complete._\n",
    "\n",
    "#### send\n",
    "\n",
    "When the `client` is connected, it sends a `GET /test/ping` to the `server` as an HTTP document and waits.\n",
    "\n",
    "**For the curious**: _How does the client know it is connected? The microservice is continuously\n",
    "polling all the sockets that it knows about. When it notices that the client socket is \"readable\",\n",
    "it \"wakes the client up\" by calling a piece of code that handles connection events. In the case of\n",
    "the `get` function used above, it immediately sends an HTTP document when a connect event occurs._\n",
    "\n",
    "#### server receive\n",
    "\n",
    "When the `server` receives the entire HTTP document, it \n",
    "matches it to the `ROUTE` and `GET` directives, and\n",
    "calls `__main__.ping`, which immediately returns\n",
    "the dictionary `{'ping': 'pong'}`.\n",
    "The `server` sends the dictionary as a `json` document in an HTTP response\n",
    "to the `client` and waits.\n",
    "\n",
    "**For the curious**: _The microservice started polling the connected socket as soon as the\n",
    "connection was completed in the `accept` step above. When data arrives on the socket, the socket\n",
    "becomes \"readable\" which tells the microservice that it's possible to read some data. Data is read\n",
    "and parsed until an entire HTTP document is received._\n",
    "\n",
    "#### client receive\n",
    "\n",
    "When the `client` receives the entire HTTP document, it indicates to the `wait` function that it is done.\n",
    "The `wait` function prints the `json` document and stops."
   ]
  },
  {
   "cell_type": "markdown",
   "metadata": {
    "collapsed": true
   },
   "source": [
    "### Configuring a SERVICE\n",
    "\n",
    "A `SERVICE` can be configured with values in a config file.\n",
    "This makes it possible to change some behavior without modifying the `micro` file or any code.\n",
    "\n",
    "Take a look at the config associated with the previously defined `SERVICE` by examining the value\n",
    "returned by the `load_service` function:"
   ]
  },
  {
   "cell_type": "code",
   "execution_count": 21,
   "metadata": {},
   "outputs": [
    {
     "data": {
      "text/plain": [
       "server.useless.port=12345\n",
       "server.useless.is_active=True\n",
       "server.useless.ssl.is_active=False\n",
       "server.useless.ssl.keyfile=\n",
       "server.useless.ssl.certfile="
      ]
     },
     "execution_count": 21,
     "metadata": {},
     "output_type": "execute_result"
    }
   ],
   "source": [
    "p.config"
   ]
  },
  {
   "cell_type": "markdown",
   "metadata": {},
   "source": [
    "We can change the listening port, turn the listener off (`is_active`), and enable ssl."
   ]
  },
  {
   "cell_type": "markdown",
   "metadata": {},
   "source": [
    "#### Making a change\n",
    "\n",
    "In a microservice, the config would be loaded from a file as part of startup. Here we do it dynamically.\n",
    "\n",
    "Let's change the port:"
   ]
  },
  {
   "cell_type": "code",
   "execution_count": 22,
   "metadata": {},
   "outputs": [
    {
     "data": {
      "text/plain": [
       "server.useless.port=12346\n",
       "server.useless.is_active=True\n",
       "server.useless.ssl.is_active=False\n",
       "server.useless.ssl.keyfile=\n",
       "server.useless.ssl.certfile="
      ]
     },
     "execution_count": 22,
     "metadata": {},
     "output_type": "execute_result"
    }
   ],
   "source": [
    "p.config._load(['server.useless.port=12346'])\n",
    "p.config"
   ]
  },
  {
   "cell_type": "markdown",
   "metadata": {},
   "source": [
    "### Restarting the SERVER\n",
    "\n",
    "This changes the behavior of the `SERVICE`. We'll stop the old listener first, and run our old `/test/ping`. The `re_start` function is a helper function, unlikely to be useful in a production microservice."
   ]
  },
  {
   "cell_type": "code",
   "execution_count": 23,
   "metadata": {},
   "outputs": [
    {
     "ename": "Exception",
     "evalue": "failed to connect",
     "output_type": "error",
     "traceback": [
      "\u001b[0;31m---------------------------------------------------------------------------\u001b[0m",
      "\u001b[0;31mException\u001b[0m                                 Traceback (most recent call last)",
      "\u001b[0;32m<ipython-input-23-43df4b37e586>\u001b[0m in \u001b[0;36m<module>\u001b[0;34m()\u001b[0m\n\u001b[1;32m      1\u001b[0m \u001b[0mmicro\u001b[0m\u001b[0;34m.\u001b[0m\u001b[0mre_start\u001b[0m\u001b[0;34m(\u001b[0m\u001b[0mp\u001b[0m\u001b[0;34m)\u001b[0m\u001b[0;34m\u001b[0m\u001b[0m\n\u001b[1;32m      2\u001b[0m \u001b[0mcon\u001b[0m \u001b[0;34m=\u001b[0m \u001b[0masync\u001b[0m\u001b[0;34m.\u001b[0m\u001b[0mConnection\u001b[0m\u001b[0;34m(\u001b[0m\u001b[0;34m'http://localhost:12345'\u001b[0m\u001b[0;34m)\u001b[0m\u001b[0;34m\u001b[0m\u001b[0m\n\u001b[0;32m----> 3\u001b[0;31m \u001b[0masync\u001b[0m\u001b[0;34m.\u001b[0m\u001b[0mwait\u001b[0m\u001b[0;34m(\u001b[0m\u001b[0mcon\u001b[0m\u001b[0;34m.\u001b[0m\u001b[0mget\u001b[0m\u001b[0;34m(\u001b[0m\u001b[0;34m'/test/ping'\u001b[0m\u001b[0;34m)\u001b[0m\u001b[0;34m)\u001b[0m\u001b[0;34m\u001b[0m\u001b[0m\n\u001b[0m",
      "\u001b[0;32m/opt/rhc/rhc/async.py\u001b[0m in \u001b[0;36mwait\u001b[0;34m(partial_cb, callback_fn, task_fn)\u001b[0m\n\u001b[1;32m    140\u001b[0m         \u001b[0mrun\u001b[0m\u001b[0;34m(\u001b[0m\u001b[0mpartial_cb\u001b[0m\u001b[0;34m(\u001b[0m\u001b[0mtask_cb\u001b[0m\u001b[0;34m)\u001b[0m\u001b[0;34m)\u001b[0m\u001b[0;34m\u001b[0m\u001b[0m\n\u001b[1;32m    141\u001b[0m     \u001b[0;32melse\u001b[0m\u001b[0;34m:\u001b[0m\u001b[0;34m\u001b[0m\u001b[0m\n\u001b[0;32m--> 142\u001b[0;31m         \u001b[0mrun\u001b[0m\u001b[0;34m(\u001b[0m\u001b[0mpartial_cb\u001b[0m\u001b[0;34m(\u001b[0m\u001b[0mcallback_fn\u001b[0m\u001b[0;34m)\u001b[0m\u001b[0;34m)\u001b[0m\u001b[0;34m\u001b[0m\u001b[0m\n\u001b[0m\u001b[1;32m    143\u001b[0m \u001b[0;34m\u001b[0m\u001b[0m\n\u001b[1;32m    144\u001b[0m \u001b[0;34m\u001b[0m\u001b[0m\n",
      "\u001b[0;32m/opt/rhc/rhc/async.py\u001b[0m in \u001b[0;36mrun\u001b[0;34m(command, delay, loop)\u001b[0m\n\u001b[1;32m    651\u001b[0m \u001b[0;34m\u001b[0m\u001b[0m\n\u001b[1;32m    652\u001b[0m     \u001b[0;32mwhile\u001b[0m \u001b[0;32mnot\u001b[0m \u001b[0mcommand\u001b[0m\u001b[0;34m.\u001b[0m\u001b[0mis_done\u001b[0m\u001b[0;34m:\u001b[0m\u001b[0;34m\u001b[0m\u001b[0m\n\u001b[0;32m--> 653\u001b[0;31m         \u001b[0mSERVER\u001b[0m\u001b[0;34m.\u001b[0m\u001b[0mservice\u001b[0m\u001b[0;34m(\u001b[0m\u001b[0mdelay\u001b[0m\u001b[0;34m=\u001b[0m\u001b[0mdelay\u001b[0m\u001b[0;34m,\u001b[0m \u001b[0mmax_iterations\u001b[0m\u001b[0;34m=\u001b[0m\u001b[0mloop\u001b[0m\u001b[0;34m)\u001b[0m\u001b[0;34m\u001b[0m\u001b[0m\n\u001b[0m\u001b[1;32m    654\u001b[0m         \u001b[0mTIMERS\u001b[0m\u001b[0;34m.\u001b[0m\u001b[0mservice\u001b[0m\u001b[0;34m(\u001b[0m\u001b[0;34m)\u001b[0m\u001b[0;34m\u001b[0m\u001b[0m\n\u001b[1;32m    655\u001b[0m \u001b[0;34m\u001b[0m\u001b[0m\n",
      "\u001b[0;32m/opt/rhc/rhc/tcpsocket.pyc\u001b[0m in \u001b[0;36mservice\u001b[0;34m(self, delay, max_iterations)\u001b[0m\n\u001b[1;32m    145\u001b[0m         \u001b[0miterations\u001b[0m \u001b[0;34m=\u001b[0m \u001b[0;36m0\u001b[0m\u001b[0;34m\u001b[0m\u001b[0m\n\u001b[1;32m    146\u001b[0m         \u001b[0mdid_anything\u001b[0m \u001b[0;34m=\u001b[0m \u001b[0mFalse\u001b[0m\u001b[0;34m\u001b[0m\u001b[0m\n\u001b[0;32m--> 147\u001b[0;31m         \u001b[0;32mwhile\u001b[0m \u001b[0;34m(\u001b[0m\u001b[0mself\u001b[0m\u001b[0;34m.\u001b[0m\u001b[0m_service\u001b[0m\u001b[0;34m(\u001b[0m\u001b[0mdelay\u001b[0m\u001b[0;34m)\u001b[0m\u001b[0;34m)\u001b[0m\u001b[0;34m:\u001b[0m\u001b[0;34m\u001b[0m\u001b[0m\n\u001b[0m\u001b[1;32m    148\u001b[0m             \u001b[0mdid_anything\u001b[0m \u001b[0;34m=\u001b[0m \u001b[0mTrue\u001b[0m\u001b[0;34m\u001b[0m\u001b[0m\n\u001b[1;32m    149\u001b[0m             \u001b[0mdelay\u001b[0m \u001b[0;34m=\u001b[0m \u001b[0;36m0\u001b[0m\u001b[0;34m\u001b[0m\u001b[0m\n",
      "\u001b[0;32m/opt/rhc/rhc/tcpsocket.pyc\u001b[0m in \u001b[0;36m_service\u001b[0;34m(self, timeout)\u001b[0m\n\u001b[1;32m    184\u001b[0m         \u001b[0;32mfor\u001b[0m \u001b[0msock\u001b[0m\u001b[0;34m,\u001b[0m \u001b[0mmask\u001b[0m \u001b[0;32min\u001b[0m \u001b[0mself\u001b[0m\u001b[0;34m.\u001b[0m\u001b[0m_poll\u001b[0m\u001b[0;34m.\u001b[0m\u001b[0mpoll\u001b[0m\u001b[0;34m(\u001b[0m\u001b[0mtimeout\u001b[0m \u001b[0;34m*\u001b[0m \u001b[0;36m1000\u001b[0m\u001b[0;34m)\u001b[0m\u001b[0;34m:\u001b[0m\u001b[0;34m\u001b[0m\u001b[0m\n\u001b[1;32m    185\u001b[0m             \u001b[0mprocessed\u001b[0m \u001b[0;34m=\u001b[0m \u001b[0mTrue\u001b[0m\u001b[0;34m\u001b[0m\u001b[0m\n\u001b[0;32m--> 186\u001b[0;31m             \u001b[0mself\u001b[0m\u001b[0;34m.\u001b[0m\u001b[0m_poll_map\u001b[0m\u001b[0;34m[\u001b[0m\u001b[0msock\u001b[0m\u001b[0;34m]\u001b[0m\u001b[0;34m[\u001b[0m\u001b[0;36m0\u001b[0m\u001b[0;34m]\u001b[0m\u001b[0;34m(\u001b[0m\u001b[0;34m)\u001b[0m\u001b[0;34m\u001b[0m\u001b[0m\n\u001b[0m\u001b[1;32m    187\u001b[0m \u001b[0;34m\u001b[0m\u001b[0m\n\u001b[1;32m    188\u001b[0m         \u001b[0;32mfor\u001b[0m \u001b[0mcallback\u001b[0m \u001b[0;32min\u001b[0m \u001b[0mself\u001b[0m\u001b[0;34m.\u001b[0m\u001b[0m_pending\u001b[0m\u001b[0;34m:\u001b[0m\u001b[0;34m\u001b[0m\u001b[0m\n",
      "\u001b[0;32m/opt/rhc/rhc/tcpsocket.pyc\u001b[0m in \u001b[0;36m_on_delayed_connect\u001b[0;34m(self)\u001b[0m\n\u001b[1;32m    439\u001b[0m         \u001b[0;32melse\u001b[0m\u001b[0;34m:\u001b[0m\u001b[0;34m\u001b[0m\u001b[0m\n\u001b[1;32m    440\u001b[0m             \u001b[0mself\u001b[0m\u001b[0;34m.\u001b[0m\u001b[0mclose_reason\u001b[0m \u001b[0;34m=\u001b[0m \u001b[0;34m'failed to connect'\u001b[0m\u001b[0;34m\u001b[0m\u001b[0m\n\u001b[0;32m--> 441\u001b[0;31m             \u001b[0mself\u001b[0m\u001b[0;34m.\u001b[0m\u001b[0mon_fail\u001b[0m\u001b[0;34m(\u001b[0m\u001b[0;34m)\u001b[0m\u001b[0;34m\u001b[0m\u001b[0m\n\u001b[0m\u001b[1;32m    442\u001b[0m             \u001b[0mself\u001b[0m\u001b[0;34m.\u001b[0m\u001b[0mclose\u001b[0m\u001b[0;34m(\u001b[0m\u001b[0;34m)\u001b[0m\u001b[0;34m\u001b[0m\u001b[0m\n\u001b[1;32m    443\u001b[0m \u001b[0;34m\u001b[0m\u001b[0m\n",
      "\u001b[0;32m/opt/rhc/rhc/async.py\u001b[0m in \u001b[0;36mon_fail\u001b[0;34m(self)\u001b[0m\n\u001b[1;32m    452\u001b[0m \u001b[0;34m\u001b[0m\u001b[0m\n\u001b[1;32m    453\u001b[0m     \u001b[0;32mdef\u001b[0m \u001b[0mon_fail\u001b[0m\u001b[0;34m(\u001b[0m\u001b[0mself\u001b[0m\u001b[0;34m)\u001b[0m\u001b[0;34m:\u001b[0m\u001b[0;34m\u001b[0m\u001b[0m\n\u001b[0;32m--> 454\u001b[0;31m         \u001b[0mself\u001b[0m\u001b[0;34m.\u001b[0m\u001b[0mdone\u001b[0m\u001b[0;34m(\u001b[0m\u001b[0mself\u001b[0m\u001b[0;34m.\u001b[0m\u001b[0mclose_reason\u001b[0m\u001b[0;34m,\u001b[0m \u001b[0;36m1\u001b[0m\u001b[0;34m)\u001b[0m\u001b[0;34m\u001b[0m\u001b[0m\n\u001b[0m\u001b[1;32m    455\u001b[0m \u001b[0;34m\u001b[0m\u001b[0m\n\u001b[1;32m    456\u001b[0m     \u001b[0;32mdef\u001b[0m \u001b[0mon_http_error\u001b[0m\u001b[0;34m(\u001b[0m\u001b[0mself\u001b[0m\u001b[0;34m)\u001b[0m\u001b[0;34m:\u001b[0m\u001b[0;34m\u001b[0m\u001b[0m\n",
      "\u001b[0;32m/opt/rhc/rhc/async.py\u001b[0m in \u001b[0;36mdone\u001b[0;34m(self, result, rc)\u001b[0m\n\u001b[1;32m    365\u001b[0m         \u001b[0mself\u001b[0m\u001b[0;34m.\u001b[0m\u001b[0mis_done\u001b[0m \u001b[0;34m=\u001b[0m \u001b[0mTrue\u001b[0m\u001b[0;34m\u001b[0m\u001b[0m\n\u001b[1;32m    366\u001b[0m         \u001b[0mself\u001b[0m\u001b[0;34m.\u001b[0m\u001b[0mtimer\u001b[0m\u001b[0;34m.\u001b[0m\u001b[0mcancel\u001b[0m\u001b[0;34m(\u001b[0m\u001b[0;34m)\u001b[0m\u001b[0;34m\u001b[0m\u001b[0m\n\u001b[0;32m--> 367\u001b[0;31m         \u001b[0mself\u001b[0m\u001b[0;34m.\u001b[0m\u001b[0mcontext\u001b[0m\u001b[0;34m.\u001b[0m\u001b[0mcallback\u001b[0m\u001b[0;34m(\u001b[0m\u001b[0mrc\u001b[0m\u001b[0;34m,\u001b[0m \u001b[0mresult\u001b[0m\u001b[0;34m)\u001b[0m\u001b[0;34m\u001b[0m\u001b[0m\n\u001b[0m\u001b[1;32m    368\u001b[0m         \u001b[0;32mif\u001b[0m \u001b[0;32mnot\u001b[0m \u001b[0mself\u001b[0m\u001b[0;34m.\u001b[0m\u001b[0mclose_reason\u001b[0m\u001b[0;34m:\u001b[0m\u001b[0;34m\u001b[0m\u001b[0m\n\u001b[1;32m    369\u001b[0m             \u001b[0mself\u001b[0m\u001b[0;34m.\u001b[0m\u001b[0mclose_reason\u001b[0m \u001b[0;34m=\u001b[0m \u001b[0;34m'transaction complete'\u001b[0m\u001b[0;34m\u001b[0m\u001b[0m\n",
      "\u001b[0;32m/opt/rhc/rhc/async.py\u001b[0m in \u001b[0;36mcb_fn\u001b[0;34m(rc, result)\u001b[0m\n\u001b[1;32m    128\u001b[0m     \u001b[0;32mdef\u001b[0m \u001b[0mcb_fn\u001b[0m\u001b[0;34m(\u001b[0m\u001b[0mrc\u001b[0m\u001b[0;34m,\u001b[0m \u001b[0mresult\u001b[0m\u001b[0;34m)\u001b[0m\u001b[0;34m:\u001b[0m\u001b[0;34m\u001b[0m\u001b[0m\n\u001b[1;32m    129\u001b[0m         \u001b[0;32mif\u001b[0m \u001b[0mrc\u001b[0m \u001b[0;34m!=\u001b[0m \u001b[0;36m0\u001b[0m\u001b[0;34m:\u001b[0m\u001b[0;34m\u001b[0m\u001b[0m\n\u001b[0;32m--> 130\u001b[0;31m             \u001b[0;32mraise\u001b[0m \u001b[0mException\u001b[0m\u001b[0;34m(\u001b[0m\u001b[0mresult\u001b[0m\u001b[0;34m)\u001b[0m\u001b[0;34m\u001b[0m\u001b[0m\n\u001b[0m\u001b[1;32m    131\u001b[0m         \u001b[0;32mprint\u001b[0m \u001b[0mresult\u001b[0m\u001b[0;34m\u001b[0m\u001b[0m\n\u001b[1;32m    132\u001b[0m     \u001b[0;32mif\u001b[0m \u001b[0mcallback_fn\u001b[0m \u001b[0;32mis\u001b[0m \u001b[0mNone\u001b[0m\u001b[0;34m:\u001b[0m\u001b[0;34m\u001b[0m\u001b[0m\n",
      "\u001b[0;31mException\u001b[0m: failed to connect"
     ]
    }
   ],
   "source": [
    "micro.re_start(p)\n",
    "con = async.Connection('http://localhost:12345')\n",
    "async.wait(con.get('/test/ping'))"
   ]
  },
  {
   "cell_type": "markdown",
   "metadata": {},
   "source": [
    "### As expected...\n",
    "\n",
    "The old connection to port `12345` doesn't work anymore since we've changed the `SERVER`'s listening port.\n",
    "A simple change to the connection setup will fix the error:"
   ]
  },
  {
   "cell_type": "code",
   "execution_count": 24,
   "metadata": {},
   "outputs": [
    {
     "name": "stdout",
     "output_type": "stream",
     "text": [
      "{u'ping': u'pong'}\n"
     ]
    }
   ],
   "source": [
    "con = async.Connection('http://localhost:12346')\n",
    "async.wait(con.get('/test/ping'))"
   ]
  },
  {
   "cell_type": "code",
   "execution_count": null,
   "metadata": {
    "collapsed": true
   },
   "outputs": [],
   "source": []
  }
 ],
 "metadata": {
  "kernelspec": {
   "display_name": "Python 2",
   "language": "python",
   "name": "python2"
  },
  "language_info": {
   "codemirror_mode": {
    "name": "ipython",
    "version": 2
   },
   "file_extension": ".py",
   "mimetype": "text/x-python",
   "name": "python",
   "nbconvert_exporter": "python",
   "pygments_lexer": "ipython2",
   "version": "2.7.12"
  }
 },
 "nbformat": 4,
 "nbformat_minor": 2
}
